{
 "cells": [
  {
   "cell_type": "code",
   "execution_count": 2,
   "metadata": {},
   "outputs": [],
   "source": [
    "import pickle\n",
    "import random\n",
    "\n",
    "import numpy as np\n",
    "import pandas as pd\n",
    "import seaborn as sns\n",
    "import tensorflow.keras as tfk\n",
    "from exploration_model import Explorer\n",
    "from matplotlib import pyplot as plt\n",
    "from sklearn.model_selection import train_test_split\n",
    "\n",
    "sns.set(\n",
    "    context=\"talk\",\n",
    "    style=\"ticks\",\n",
    "    font=\"Arial\",\n",
    "    font_scale=1.0,\n",
    "    rc={\"svg.fonttype\": \"none\", \"lines.linewidth\": 1.5, \"figure.autolayout\": True},\n",
    ")"
   ]
  },
  {
   "cell_type": "markdown",
   "metadata": {},
   "source": [
    "# Data formatting"
   ]
  },
  {
   "cell_type": "code",
   "execution_count": 3,
   "metadata": {},
   "outputs": [],
   "source": [
    "data = pickle.load(open(\"data/fp_weights_space.p\", \"rb\"))"
   ]
  },
  {
   "cell_type": "code",
   "execution_count": 4,
   "metadata": {},
   "outputs": [],
   "source": [
    "class ChemicalSpace:\n",
    "    \"\"\"\n",
    "    class to manage the simulated chemical space. It keeps track of experiments that\n",
    "    have been seen or unseen by the algorithm.\n",
    "    methods:\n",
    "    random_guess: assign a random percentage to the seen reactions\n",
    "    update_explored_indexes: assign the selected indexes to the seen reactions\n",
    "    update_df: based on seen/unseen indexes it splits the complete dataset\n",
    "    accordingly\n",
    "    \"\"\"\n",
    "\n",
    "    def __init__(self, dic, seed=None):\n",
    "        random.seed(seed)\n",
    "\n",
    "        self.FULLreagent_fps = dic[\"reagent_fps\"]\n",
    "        self.FULLreactant_mat = dic[\"reactant_mat\"]\n",
    "        self.FULLpredictions = dic[\"predictions\"]\n",
    "        self.FULLsample_weights = dic[\"sample_weights\"]\n",
    "\n",
    "        self.unseen = list(range(len(self.FULLreagent_fps)))\n",
    "        self.seen = []\n",
    "        self.space_len = len(self.unseen)\n",
    "\n",
    "        random.shuffle(self.unseen)\n",
    "\n",
    "    def random_guess(self, percent):\n",
    "        num_of_rxns = int(self.space_len * percent)\n",
    "        random_idxs = []\n",
    "\n",
    "        for idx in self.unseen:\n",
    "            self.seen.append(idx)\n",
    "            random_idxs.append(idx)\n",
    "            if len(random_idxs) == num_of_rxns:\n",
    "                break\n",
    "        for idx in random_idxs:\n",
    "            self.unseen.remove(idx)\n",
    "\n",
    "        self.update_df()\n",
    "\n",
    "    def update_explored_indexes(self, indexes):\n",
    "        for idx in indexes:\n",
    "            self.seen.append(idx)\n",
    "            self.unseen.remove(idx)\n",
    "        self.update_df()\n",
    "\n",
    "    def update_df(self):\n",
    "        self.reagent_fps = self.FULLreagent_fps.take(self.seen, axis=0)\n",
    "        self.reactant_mat = self.FULLreactant_mat.take(self.seen, axis=0)\n",
    "        self.predictions = self.FULLpredictions.take(self.seen, axis=0)\n",
    "        self.sample_weights = self.FULLsample_weights.take(self.seen, axis=0)\n",
    "\n",
    "        self.Ureagent_fps = self.FULLreagent_fps.take(self.unseen, axis=0)\n",
    "        self.Ureactant_mat = self.FULLreactant_mat.take(self.unseen, axis=0)\n",
    "        self.Upredictions = self.FULLpredictions.take(self.unseen, axis=0)\n",
    "        self.Usample_weights = self.FULLsample_weights.take(self.unseen, axis=0)\n",
    "\n",
    "\n",
    "class Simulation:\n",
    "    \"\"\"\n",
    "    class used for the simulated exploration of the chemical space. It trains the\n",
    "    neural netowork on pregressively bigger datasets and tries to explore the space\n",
    "    performing the reactive combinations first.\n",
    "    \"\"\"\n",
    "\n",
    "    def __init__(self, data, seed=147):\n",
    "        self.data = data\n",
    "        self.chemspace = ChemicalSpace(data, seed=seed)\n",
    "        self.random_percent = 0.1\n",
    "        self.model = Explorer()\n",
    "        self.results = []\n",
    "\n",
    "    def explore_space(self):\n",
    "        # defines the batch size for exploration of chemical space\n",
    "        screen_size = 50\n",
    "        # randomly guess select 10 % of chemical space\n",
    "        self.chemspace.random_guess(self.random_percent)\n",
    "\n",
    "        # keep statistics for plotting\n",
    "        rxn = [0.5 * len(self.chemspace.seen)]\n",
    "        width = [0.95 * len(self.chemspace.seen)]\n",
    "        self.results.append([i for i in self.chemspace.predictions])\n",
    "\n",
    "        # Evaluate average yield of selected reactions\n",
    "        avg_real_yield = [np.mean(self.chemspace.predictions)]\n",
    "        # Evaluate standard deviation\n",
    "        stds = [np.std(self.chemspace.predictions)]\n",
    "\n",
    "        iteration = 0\n",
    "\n",
    "        while not len(self.chemspace.unseen) == 0:\n",
    "            # Add data to plot\n",
    "            if iteration == 0:\n",
    "                rxn.append(2 * rxn[-1] + 0.5 * screen_size)\n",
    "            else:\n",
    "                if len(self.chemspace.unseen) < screen_size:\n",
    "                    screen_size = len(self.chemspace.unseen)\n",
    "                rxn.append(rxn[-1] + screen_size)\n",
    "\n",
    "            width.append(0.95 * screen_size)\n",
    "\n",
    "            # train neural network with seen data\n",
    "            print(f\"training on {len(self.chemspace.seen)}\")\n",
    "            self.model.train(\n",
    "                self.chemspace.reagent_fps,\n",
    "                self.chemspace.reactant_mat,\n",
    "                self.chemspace.predictions,\n",
    "                self.chemspace.sample_weights,\n",
    "            )\n",
    "\n",
    "            # assign reactivity to unseen data\n",
    "            self.yp = self.model.test(\n",
    "                self.chemspace.Ureagent_fps, self.chemspace.Ureactant_mat\n",
    "            )\n",
    "\n",
    "            # Sort the dataframe by predicted yield\n",
    "            unseen_df = pd.DataFrame(\n",
    "                {\n",
    "                    \"prediction\": self.yp,\n",
    "                    \"indexes\": self.chemspace.unseen,\n",
    "                    \"real_react\": self.chemspace.Upredictions,\n",
    "                }\n",
    "            )\n",
    "            sorted_by_prediction = unseen_df.sort_values(\n",
    "                by=[\"prediction\"], ascending=False\n",
    "            )\n",
    "            # Get a dataframe with best candidates from prediction\n",
    "            self.best_results = sorted_by_prediction.head(screen_size)\n",
    "            # Get idxs of best candidates\n",
    "            best_results_idxs = list(self.best_results[\"indexes\"])\n",
    "            # Evaluate real yiled of selected batch of reactions\n",
    "            avg_real_yield.append(np.mean(self.best_results[\"real_react\"]))\n",
    "            # Calcuate and print the standard deviation for current batch of reactions\n",
    "            stds.append(np.std(self.best_results[\"real_react\"]))\n",
    "            self.results.append([i for i in self.best_results[\"real_react\"]])\n",
    "            # Add the current batch of reactions to explored reactions so in\n",
    "            # the next iteration neural network can be trained on updated data\n",
    "            self.chemspace.update_explored_indexes(best_results_idxs)\n",
    "            iteration += 1\n",
    "\n",
    "        return rxn, avg_real_yield, stds, width, self.results"
   ]
  },
  {
   "cell_type": "markdown",
   "metadata": {},
   "source": [
    "# Testing"
   ]
  },
  {
   "cell_type": "code",
   "execution_count": 5,
   "metadata": {},
   "outputs": [
    {
     "name": "stderr",
     "output_type": "stream",
     "text": [
      "D:\\Users\\Uigedail\\mambaforge\\envs\\Rx1st\\lib\\site-packages\\torch\\nn\\_reduction.py:44: UserWarning: size_average and reduce args will be deprecated, please use reduction='sum' instead.\n",
      "  warnings.warn(warning.format(ret))\n",
      "  0%|                                                                                                             | 0/5 [00:00<?, ?it/s]\n"
     ]
    },
    {
     "ename": "AtomKekulizeException",
     "evalue": "non-ring atom 2 marked aromatic",
     "output_type": "error",
     "traceback": [
      "\u001b[1;31m---------------------------------------------------------------------------\u001b[0m",
      "\u001b[1;31mAtomKekulizeException\u001b[0m                     Traceback (most recent call last)",
      "\u001b[1;32m<ipython-input-5-f1fd141dc922>\u001b[0m in \u001b[0;36m<module>\u001b[1;34m\u001b[0m\n\u001b[1;32m----> 1\u001b[1;33m \u001b[0msim\u001b[0m \u001b[1;33m=\u001b[0m \u001b[0mSimulation\u001b[0m\u001b[1;33m(\u001b[0m\u001b[0mdata\u001b[0m\u001b[1;33m,\u001b[0m \u001b[0mseed\u001b[0m\u001b[1;33m=\u001b[0m\u001b[1;36m29\u001b[0m\u001b[1;33m)\u001b[0m\u001b[1;33m\u001b[0m\u001b[1;33m\u001b[0m\u001b[0m\n\u001b[0m",
      "\u001b[1;32m<ipython-input-4-0b1e48f82892>\u001b[0m in \u001b[0;36m__init__\u001b[1;34m(self, data, seed)\u001b[0m\n\u001b[0;32m     67\u001b[0m         \u001b[0mself\u001b[0m\u001b[1;33m.\u001b[0m\u001b[0mchemspace\u001b[0m \u001b[1;33m=\u001b[0m \u001b[0mChemicalSpace\u001b[0m\u001b[1;33m(\u001b[0m\u001b[0mdata\u001b[0m\u001b[1;33m,\u001b[0m \u001b[0mseed\u001b[0m\u001b[1;33m=\u001b[0m\u001b[0mseed\u001b[0m\u001b[1;33m)\u001b[0m\u001b[1;33m\u001b[0m\u001b[1;33m\u001b[0m\u001b[0m\n\u001b[0;32m     68\u001b[0m         \u001b[0mself\u001b[0m\u001b[1;33m.\u001b[0m\u001b[0mrandom_percent\u001b[0m \u001b[1;33m=\u001b[0m \u001b[1;36m0.1\u001b[0m\u001b[1;33m\u001b[0m\u001b[1;33m\u001b[0m\u001b[0m\n\u001b[1;32m---> 69\u001b[1;33m         \u001b[0mself\u001b[0m\u001b[1;33m.\u001b[0m\u001b[0mmodel\u001b[0m \u001b[1;33m=\u001b[0m \u001b[0mExplorer\u001b[0m\u001b[1;33m(\u001b[0m\u001b[1;33m)\u001b[0m\u001b[1;33m\u001b[0m\u001b[1;33m\u001b[0m\u001b[0m\n\u001b[0m\u001b[0;32m     70\u001b[0m         \u001b[0mself\u001b[0m\u001b[1;33m.\u001b[0m\u001b[0mresults\u001b[0m \u001b[1;33m=\u001b[0m \u001b[1;33m[\u001b[0m\u001b[1;33m]\u001b[0m\u001b[1;33m\u001b[0m\u001b[1;33m\u001b[0m\u001b[0m\n\u001b[0;32m     71\u001b[0m \u001b[1;33m\u001b[0m\u001b[0m\n",
      "\u001b[1;32m~\\Code\\Rx1st\\exploration_model.py\u001b[0m in \u001b[0;36m__init__\u001b[1;34m(self)\u001b[0m\n\u001b[0;32m     25\u001b[0m             \u001b[0mmodel_path\u001b[0m\u001b[1;33m=\u001b[0m\u001b[0mJTNN_MODEL_PATH\u001b[0m\u001b[1;33m,\u001b[0m \u001b[0mvocab_path\u001b[0m\u001b[1;33m=\u001b[0m\u001b[0mJTNN_VOCAB_PATH\u001b[0m\u001b[1;33m\u001b[0m\u001b[1;33m\u001b[0m\u001b[0m\n\u001b[0;32m     26\u001b[0m         )\n\u001b[1;32m---> 27\u001b[1;33m         \u001b[0mfps\u001b[0m \u001b[1;33m=\u001b[0m \u001b[0mfp_calculator\u001b[0m\u001b[1;33m(\u001b[0m\u001b[0msmiles\u001b[0m\u001b[1;33m[\u001b[0m\u001b[1;33m:\u001b[0m\u001b[1;36m1000\u001b[0m\u001b[1;33m]\u001b[0m\u001b[1;33m)\u001b[0m\u001b[1;33m\u001b[0m\u001b[1;33m\u001b[0m\u001b[0m\n\u001b[0m\u001b[0;32m     28\u001b[0m \u001b[1;33m\u001b[0m\u001b[0m\n\u001b[0;32m     29\u001b[0m         \u001b[0mself\u001b[0m\u001b[1;33m.\u001b[0m\u001b[0mnormalizer\u001b[0m \u001b[1;33m=\u001b[0m \u001b[0mtfk\u001b[0m\u001b[1;33m.\u001b[0m\u001b[0mlayers\u001b[0m\u001b[1;33m.\u001b[0m\u001b[0mexperimental\u001b[0m\u001b[1;33m.\u001b[0m\u001b[0mpreprocessing\u001b[0m\u001b[1;33m.\u001b[0m\u001b[0mNormalization\u001b[0m\u001b[1;33m(\u001b[0m\u001b[1;33m)\u001b[0m\u001b[1;33m\u001b[0m\u001b[1;33m\u001b[0m\u001b[0m\n",
      "\u001b[1;32mc:\\users\\uigedail\\code\\jtnn-vae\\fast_jtnn\\fp_calculator.py\u001b[0m in \u001b[0;36m__call__\u001b[1;34m(self, smiles_list)\u001b[0m\n\u001b[0;32m     52\u001b[0m \u001b[1;33m\u001b[0m\u001b[0m\n\u001b[0;32m     53\u001b[0m         \u001b[1;32mfor\u001b[0m \u001b[0mchunk\u001b[0m \u001b[1;32min\u001b[0m \u001b[0mtqdm\u001b[0m\u001b[1;33m(\u001b[0m\u001b[0mrange\u001b[0m\u001b[1;33m(\u001b[0m\u001b[1;36m0\u001b[0m\u001b[1;33m,\u001b[0m \u001b[0mlen\u001b[0m\u001b[1;33m(\u001b[0m\u001b[0msmiles_list\u001b[0m\u001b[1;33m)\u001b[0m\u001b[1;33m,\u001b[0m \u001b[1;36m200\u001b[0m\u001b[1;33m)\u001b[0m\u001b[1;33m)\u001b[0m\u001b[1;33m:\u001b[0m\u001b[1;33m\u001b[0m\u001b[1;33m\u001b[0m\u001b[0m\n\u001b[1;32m---> 54\u001b[1;33m             \u001b[0mtree_batch\u001b[0m \u001b[1;33m=\u001b[0m \u001b[1;33m[\u001b[0m\u001b[0mMolTree\u001b[0m\u001b[1;33m(\u001b[0m\u001b[0ms\u001b[0m\u001b[1;33m)\u001b[0m \u001b[1;32mfor\u001b[0m \u001b[0ms\u001b[0m \u001b[1;32min\u001b[0m \u001b[0msmiles_list\u001b[0m\u001b[1;33m[\u001b[0m\u001b[0mchunk\u001b[0m \u001b[1;33m:\u001b[0m \u001b[0mchunk\u001b[0m \u001b[1;33m+\u001b[0m \u001b[1;36m200\u001b[0m\u001b[1;33m]\u001b[0m\u001b[1;33m]\u001b[0m\u001b[1;33m\u001b[0m\u001b[1;33m\u001b[0m\u001b[0m\n\u001b[0m\u001b[0;32m     55\u001b[0m \u001b[1;33m\u001b[0m\u001b[0m\n\u001b[0;32m     56\u001b[0m             tree_batch, jtenc_holder, mpn_holder = tensorize(\n",
      "\u001b[1;32mc:\\users\\uigedail\\code\\jtnn-vae\\fast_jtnn\\fp_calculator.py\u001b[0m in \u001b[0;36m<listcomp>\u001b[1;34m(.0)\u001b[0m\n\u001b[0;32m     52\u001b[0m \u001b[1;33m\u001b[0m\u001b[0m\n\u001b[0;32m     53\u001b[0m         \u001b[1;32mfor\u001b[0m \u001b[0mchunk\u001b[0m \u001b[1;32min\u001b[0m \u001b[0mtqdm\u001b[0m\u001b[1;33m(\u001b[0m\u001b[0mrange\u001b[0m\u001b[1;33m(\u001b[0m\u001b[1;36m0\u001b[0m\u001b[1;33m,\u001b[0m \u001b[0mlen\u001b[0m\u001b[1;33m(\u001b[0m\u001b[0msmiles_list\u001b[0m\u001b[1;33m)\u001b[0m\u001b[1;33m,\u001b[0m \u001b[1;36m200\u001b[0m\u001b[1;33m)\u001b[0m\u001b[1;33m)\u001b[0m\u001b[1;33m:\u001b[0m\u001b[1;33m\u001b[0m\u001b[1;33m\u001b[0m\u001b[0m\n\u001b[1;32m---> 54\u001b[1;33m             \u001b[0mtree_batch\u001b[0m \u001b[1;33m=\u001b[0m \u001b[1;33m[\u001b[0m\u001b[0mMolTree\u001b[0m\u001b[1;33m(\u001b[0m\u001b[0ms\u001b[0m\u001b[1;33m)\u001b[0m \u001b[1;32mfor\u001b[0m \u001b[0ms\u001b[0m \u001b[1;32min\u001b[0m \u001b[0msmiles_list\u001b[0m\u001b[1;33m[\u001b[0m\u001b[0mchunk\u001b[0m \u001b[1;33m:\u001b[0m \u001b[0mchunk\u001b[0m \u001b[1;33m+\u001b[0m \u001b[1;36m200\u001b[0m\u001b[1;33m]\u001b[0m\u001b[1;33m]\u001b[0m\u001b[1;33m\u001b[0m\u001b[1;33m\u001b[0m\u001b[0m\n\u001b[0m\u001b[0;32m     55\u001b[0m \u001b[1;33m\u001b[0m\u001b[0m\n\u001b[0;32m     56\u001b[0m             tree_batch, jtenc_holder, mpn_holder = tensorize(\n",
      "\u001b[1;32mc:\\users\\uigedail\\code\\jtnn-vae\\fast_jtnn\\mol_tree.py\u001b[0m in \u001b[0;36m__init__\u001b[1;34m(self, smiles)\u001b[0m\n\u001b[0;32m     85\u001b[0m         \u001b[0mroot\u001b[0m \u001b[1;33m=\u001b[0m \u001b[1;36m0\u001b[0m\u001b[1;33m\u001b[0m\u001b[1;33m\u001b[0m\u001b[0m\n\u001b[0;32m     86\u001b[0m         \u001b[1;32mfor\u001b[0m \u001b[0mi\u001b[0m\u001b[1;33m,\u001b[0m \u001b[0mc\u001b[0m \u001b[1;32min\u001b[0m \u001b[0menumerate\u001b[0m\u001b[1;33m(\u001b[0m\u001b[0mcliques\u001b[0m\u001b[1;33m)\u001b[0m\u001b[1;33m:\u001b[0m\u001b[1;33m\u001b[0m\u001b[1;33m\u001b[0m\u001b[0m\n\u001b[1;32m---> 87\u001b[1;33m             \u001b[0mcmol\u001b[0m \u001b[1;33m=\u001b[0m \u001b[0mget_clique_mol\u001b[0m\u001b[1;33m(\u001b[0m\u001b[0mself\u001b[0m\u001b[1;33m.\u001b[0m\u001b[0mmol\u001b[0m\u001b[1;33m,\u001b[0m \u001b[0mc\u001b[0m\u001b[1;33m)\u001b[0m\u001b[1;33m\u001b[0m\u001b[1;33m\u001b[0m\u001b[0m\n\u001b[0m\u001b[0;32m     88\u001b[0m             \u001b[0mnode\u001b[0m \u001b[1;33m=\u001b[0m \u001b[0mMolTreeNode\u001b[0m\u001b[1;33m(\u001b[0m\u001b[0mget_smiles\u001b[0m\u001b[1;33m(\u001b[0m\u001b[0mcmol\u001b[0m\u001b[1;33m)\u001b[0m\u001b[1;33m,\u001b[0m \u001b[0mc\u001b[0m\u001b[1;33m)\u001b[0m\u001b[1;33m\u001b[0m\u001b[1;33m\u001b[0m\u001b[0m\n\u001b[0;32m     89\u001b[0m             \u001b[0mself\u001b[0m\u001b[1;33m.\u001b[0m\u001b[0mnodes\u001b[0m\u001b[1;33m.\u001b[0m\u001b[0mappend\u001b[0m\u001b[1;33m(\u001b[0m\u001b[0mnode\u001b[0m\u001b[1;33m)\u001b[0m\u001b[1;33m\u001b[0m\u001b[1;33m\u001b[0m\u001b[0m\n",
      "\u001b[1;32mc:\\users\\uigedail\\code\\jtnn-vae\\fast_jtnn\\chemutils.py\u001b[0m in \u001b[0;36mget_clique_mol\u001b[1;34m(mol, atoms)\u001b[0m\n\u001b[0;32m     88\u001b[0m \u001b[1;33m\u001b[0m\u001b[0m\n\u001b[0;32m     89\u001b[0m \u001b[1;32mdef\u001b[0m \u001b[0mget_clique_mol\u001b[0m\u001b[1;33m(\u001b[0m\u001b[0mmol\u001b[0m\u001b[1;33m,\u001b[0m \u001b[0matoms\u001b[0m\u001b[1;33m)\u001b[0m\u001b[1;33m:\u001b[0m\u001b[1;33m\u001b[0m\u001b[1;33m\u001b[0m\u001b[0m\n\u001b[1;32m---> 90\u001b[1;33m     \u001b[0msmiles\u001b[0m \u001b[1;33m=\u001b[0m \u001b[0mChem\u001b[0m\u001b[1;33m.\u001b[0m\u001b[0mMolFragmentToSmiles\u001b[0m\u001b[1;33m(\u001b[0m\u001b[0mmol\u001b[0m\u001b[1;33m,\u001b[0m \u001b[0matoms\u001b[0m\u001b[1;33m,\u001b[0m \u001b[0mkekuleSmiles\u001b[0m\u001b[1;33m=\u001b[0m\u001b[1;32mTrue\u001b[0m\u001b[1;33m)\u001b[0m\u001b[1;33m\u001b[0m\u001b[1;33m\u001b[0m\u001b[0m\n\u001b[0m\u001b[0;32m     91\u001b[0m     \u001b[0mnew_mol\u001b[0m \u001b[1;33m=\u001b[0m \u001b[0mChem\u001b[0m\u001b[1;33m.\u001b[0m\u001b[0mMolFromSmiles\u001b[0m\u001b[1;33m(\u001b[0m\u001b[0msmiles\u001b[0m\u001b[1;33m,\u001b[0m \u001b[0msanitize\u001b[0m\u001b[1;33m=\u001b[0m\u001b[1;32mFalse\u001b[0m\u001b[1;33m)\u001b[0m\u001b[1;33m\u001b[0m\u001b[1;33m\u001b[0m\u001b[0m\n\u001b[0;32m     92\u001b[0m     \u001b[0mnew_mol\u001b[0m \u001b[1;33m=\u001b[0m \u001b[0mcopy_edit_mol\u001b[0m\u001b[1;33m(\u001b[0m\u001b[0mnew_mol\u001b[0m\u001b[1;33m)\u001b[0m\u001b[1;33m.\u001b[0m\u001b[0mGetMol\u001b[0m\u001b[1;33m(\u001b[0m\u001b[1;33m)\u001b[0m\u001b[1;33m\u001b[0m\u001b[1;33m\u001b[0m\u001b[0m\n",
      "\u001b[1;31mAtomKekulizeException\u001b[0m: non-ring atom 2 marked aromatic"
     ]
    }
   ],
   "source": [
    "sim = Simulation(data, seed=29)"
   ]
  },
  {
   "cell_type": "code",
   "execution_count": 14,
   "metadata": {},
   "outputs": [
    {
     "name": "stdout",
     "output_type": "stream",
     "text": [
      "training on 101\n",
      "Restoring model weights from the end of the best epoch.\n",
      "Epoch 00096: early stopping\n",
      "training on 151\n",
      "Restoring model weights from the end of the best epoch.\n",
      "Epoch 00142: early stopping\n",
      "training on 201\n",
      "Restoring model weights from the end of the best epoch.\n",
      "Epoch 00066: early stopping\n",
      "training on 251\n",
      "Restoring model weights from the end of the best epoch.\n",
      "Epoch 00139: early stopping\n",
      "training on 301\n",
      "Restoring model weights from the end of the best epoch.\n",
      "Epoch 00075: early stopping\n",
      "training on 351\n",
      "Restoring model weights from the end of the best epoch.\n",
      "Epoch 00157: early stopping\n",
      "training on 401\n",
      "Restoring model weights from the end of the best epoch.\n",
      "Epoch 00086: early stopping\n",
      "training on 451\n",
      "Restoring model weights from the end of the best epoch.\n",
      "Epoch 00110: early stopping\n",
      "training on 501\n",
      "Restoring model weights from the end of the best epoch.\n",
      "Epoch 00119: early stopping\n",
      "training on 551\n",
      "Restoring model weights from the end of the best epoch.\n",
      "Epoch 00102: early stopping\n",
      "training on 601\n",
      "Restoring model weights from the end of the best epoch.\n",
      "Epoch 00422: early stopping\n",
      "training on 651\n",
      "Restoring model weights from the end of the best epoch.\n",
      "Epoch 00122: early stopping\n",
      "training on 701\n",
      "Restoring model weights from the end of the best epoch.\n",
      "Epoch 00294: early stopping\n",
      "training on 751\n",
      "Restoring model weights from the end of the best epoch.\n",
      "Epoch 00172: early stopping\n",
      "training on 801\n",
      "Restoring model weights from the end of the best epoch.\n",
      "Epoch 00193: early stopping\n",
      "training on 851\n",
      "Restoring model weights from the end of the best epoch.\n",
      "Epoch 00080: early stopping\n",
      "training on 901\n",
      "Restoring model weights from the end of the best epoch.\n",
      "Epoch 00123: early stopping\n",
      "training on 951\n",
      "Restoring model weights from the end of the best epoch.\n",
      "Epoch 00103: early stopping\n",
      "training on 1001\n",
      "Restoring model weights from the end of the best epoch.\n",
      "Epoch 00244: early stopping\n"
     ]
    }
   ],
   "source": [
    "rxn, avg_real_yield, stds, width, results = sim.explore_space()"
   ]
  },
  {
   "cell_type": "code",
   "execution_count": 15,
   "metadata": {},
   "outputs": [
    {
     "data": {
      "image/png": "[encoded data removed]",
      "text/plain": [
       "<Figure size 720x720 with 1 Axes>"
      ]
     },
     "metadata": {
      "needs_background": "light"
     },
     "output_type": "display_data"
    },
    {
     "data": {
      "text/plain": [
       "<Figure size 432x288 with 0 Axes>"
      ]
     },
     "metadata": {},
     "output_type": "display_data"
    }
   ],
   "source": [
    "plt.figure(figsize=(10, 10))\n",
    "colors = [\"steelblue\" for i in range(20)]\n",
    "colors[0] = \"coral\"\n",
    "plt.bar(\n",
    "    rxn[:-1],\n",
    "    avg_real_yield[:-1],\n",
    "    yerr=stds[:-1],\n",
    "    width=width[:-1],\n",
    "    color=colors[:-1],\n",
    ")\n",
    "plt.title(\"Average reactivity per reactions batch\", fontsize=20)\n",
    "plt.xlabel(\"Reaction Number\", fontsize=20)\n",
    "plt.ylabel(\"Average reactivity\", fontsize=20)\n",
    "plt.xticks(fontsize=20)\n",
    "plt.yticks(fontsize=20)\n",
    "plt.ylim(0, 1)\n",
    "plt.show()\n",
    "plt.savefig(\"explorations/\" + str(2) + \".svg\")"
   ]
  },
  {
   "cell_type": "markdown",
   "metadata": {},
   "source": [
    "# Correlation plot"
   ]
  },
  {
   "cell_type": "code",
   "execution_count": 3,
   "metadata": {},
   "outputs": [
    {
     "name": "stderr",
     "output_type": "stream",
     "text": [
      "/home/group/mambaforge/envs/jtnn_env/lib/python3.9/site-packages/torch/nn/_reduction.py:42: UserWarning: size_average and reduce args will be deprecated, please use reduction='sum' instead.\n",
      "  warnings.warn(warning.format(ret))\n",
      " 20%|██        | 1/5 [00:02<00:10,  2.70s/it]RDKit WARNING: [18:31:07] WARNING: not removing hydrogen atom without neighbors\n",
      "RDKit WARNING: [18:31:07] WARNING: not removing hydrogen atom without neighbors\n",
      "100%|██████████| 5/5 [00:15<00:00,  3.16s/it]\n"
     ]
    }
   ],
   "source": [
    "model = Explorer()\n",
    "\n",
    "reagent_fps = data[\"reagent_fps\"]\n",
    "reactant_mat = data[\"reactant_mat\"]\n",
    "predictions = data[\"predictions\"]\n",
    "sample_weights = data[\"sample_weights\"]"
   ]
  },
  {
   "cell_type": "code",
   "execution_count": 7,
   "metadata": {},
   "outputs": [],
   "source": [
    "model = tfk.models.load_model(\"data/reactivity_models/best_model_exploration\")\n",
    "(\n",
    "    reagent_fps_train,\n",
    "    reagent_fps_test,\n",
    "    reactant_mat_train,\n",
    "    reactant_mat_test,\n",
    "    pred_train,\n",
    "    pred_test,\n",
    "    weights_train,\n",
    "    weights_test,\n",
    ") = train_test_split(\n",
    "    reagent_fps,\n",
    "    reactant_mat,\n",
    "    predictions,\n",
    "    sample_weights,\n",
    "    test_size=0.2,\n",
    "    random_state=39,\n",
    ")\n",
    "output = model([reagent_fps_test, reactant_mat_test]).numpy().flatten()"
   ]
  },
  {
   "cell_type": "code",
   "execution_count": 8,
   "metadata": {},
   "outputs": [],
   "source": [
    "df = pd.DataFrame({\"expected\": output, \"predicted\": pred_test})"
   ]
  },
  {
   "cell_type": "code",
   "execution_count": 9,
   "metadata": {},
   "outputs": [
    {
     "data": {
      "image/png": "[encoded data removed]",
      "text/plain": [
       "<Figure size 360x360 with 1 Axes>"
      ]
     },
     "metadata": {},
     "output_type": "display_data"
    }
   ],
   "source": [
    "f = sns.lmplot(\n",
    "    data=pd.DataFrame({\"expected\": output, \"predicted\": pred_test}),\n",
    "    y=\"expected\",\n",
    "    x=\"predicted\",\n",
    "    legend=False,\n",
    "    aspect=1,\n",
    "    scatter_kws={\"s\": 15.0},\n",
    ")"
   ]
  },
  {
   "cell_type": "code",
   "execution_count": null,
   "metadata": {},
   "outputs": [],
   "source": []
  }
 ],
 "metadata": {
  "kernelspec": {
   "display_name": "Rx1st",
   "language": "python",
   "name": "rx1st"
  },
  "language_info": {
   "codemirror_mode": {
    "name": "ipython",
    "version": 3
   },
   "file_extension": ".py",
   "mimetype": "text/x-python",
   "name": "python",
   "nbconvert_exporter": "python",
   "pygments_lexer": "ipython3",
   "version": "3.8.8"
  }
 },
 "nbformat": 4,
 "nbformat_minor": 4
}
